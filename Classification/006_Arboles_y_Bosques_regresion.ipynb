{
  "nbformat": 4,
  "nbformat_minor": 0,
  "metadata": {
    "colab": {
      "provenance": []
    },
    "kernelspec": {
      "name": "python3",
      "display_name": "Python 3"
    },
    "language_info": {
      "name": "python"
    }
  },
  "cells": [
    {
      "cell_type": "markdown",
      "source": [
        "# Árboles para clasificación\n",
        "\n",
        "Es una estructura de árbol en la que cada nodo interno representa una decisión basada en el valor de una característica, cada rama representa el resultado de una prueba y cada hoja representa una clase.\n",
        "\n",
        "Lo árboles de decisión son útiles en:\n",
        "\n",
        "- **Conjuntos de datos complejos**.\n",
        "- **No hay suposiciones sobre distribución de datos**.\n",
        "\n",
        "![Árboles de clasificación](https://upload.wikimedia.org/wikipedia/commons/f/f3/CART_tree_titanic_survivors.png)\n",
        "\n",
        "#### Ventajas y desventajas\n",
        "\n",
        "**Ventajas**\n",
        "\n",
        "1. **Interpretabilidad**: Fácil de entender y visualizar, permitiendo la interpretación de resultados.\n",
        "2. **Manejo de datos mixtos**: Puede manejar datos categóricos y numéricos.\n",
        "3. **No requiere normalización de los datos**.\n",
        "\n",
        "**Desventajas**\n",
        "\n",
        "1. **Sobreajuste**: Puede ser propenso al sobreajuste.\n",
        "2. **Inestabilidad**: Pequeñas variaciones en los datos pueden resultar en árboles diferentes, lo que los hace inestables.\n",
        "3. **Sensible a datos ruidosos**."
      ],
      "metadata": {
        "id": "5BcHo2rszCNU"
      }
    },
    {
      "cell_type": "code",
      "source": [
        "import pandas as pd\n",
        "data = pd.read_csv('/content/sample_data/Social_Network_Ads.csv')\n",
        "X = data.iloc[:, [2, 3]]\n",
        "y = data.iloc[:, -1].values\n",
        "gender = data[['Gender']]\n",
        "\n",
        "from sklearn.preprocessing import OneHotEncoder\n",
        "cat_encoder = OneHotEncoder()\n",
        "data_cat_1hot = cat_encoder.fit_transform(gender)\n",
        "encoded_df = pd.DataFrame(data_cat_1hot.toarray(), columns = cat_encoder.get_feature_names_out())\n",
        "data1 = pd.concat([X, encoded_df], axis = 1)\n",
        "\n",
        "from sklearn.model_selection import train_test_split\n",
        "X_train, X_test, y_train, y_test = train_test_split(X, y, test_size=0.25, random_state=0)\n",
        "\n",
        "from sklearn.tree import DecisionTreeClassifier\n",
        "cls = DecisionTreeClassifier()\n",
        "cls.fit(X_train, y_train)\n",
        "\n",
        "y_pred = cls.predict(X_test)\n",
        "\n",
        "from sklearn.metrics import confusion_matrix\n",
        "print(confusion_matrix(y_test, y_pred))\n",
        "\n",
        "from sklearn.metrics import precision_score, recall_score\n",
        "print('Precision:',precision_score(y_test, y_pred))\n",
        "print('Recall:',recall_score(y_test, y_pred))\n",
        "\n",
        "from sklearn.metrics import f1_score\n",
        "print('F1:',f1_score(y_test, y_pred))"
      ],
      "metadata": {
        "colab": {
          "base_uri": "https://localhost:8080/"
        },
        "id": "4_XtHgF_9oAL",
        "outputId": "eb93c2bc-507d-4d8c-fcec-5f557276d5cf"
      },
      "execution_count": null,
      "outputs": [
        {
          "output_type": "stream",
          "name": "stdout",
          "text": [
            "[[62  6]\n",
            " [ 4 28]]\n",
            "Precision: 0.8235294117647058\n",
            "Recall: 0.875\n",
            "F1: 0.8484848484848485\n"
          ]
        }
      ]
    },
    {
      "cell_type": "markdown",
      "source": [
        "# Bosques aleatorios para clasificación\n",
        "\n",
        "Un bosque aleatorio es un conjunto de árboles de decisión individuales entrenados en diferentes subconjuntos de datos y características. En el contexto de clasificación, cada árbol en el bosque realiza una predicción y la clase que recibe más votos se selecciona como la predicción final del bosque.\n",
        "\n",
        "Los bosques aleatorios son útiles en situaciones donde:\n",
        "\n",
        "- **Se necesita alta precisión y generalización**.\n",
        "- **conjuntos de datos complejos**.\n",
        "- **Interpretación intermedia**.\n",
        "\n",
        "![Bosque aleatorio para clasificación](https://www.ibm.com/content/dam/connectedassets-adobe-cms/worldwide-content/cdp/cf/ul/g/50/f9/ICLH_Diagram_Batch_03_27-RandomForest.component.xl.ts=1682648022276.png/content/adobe-cms/mx/es/topics/random-forest/jcr:content/root/table_of_contents/body/content_section_styled/content-section-body/simple_narrative0/image)\n",
        "\n",
        "#### Ventajas y desventajas\n",
        "\n",
        "**Ventajas**\n",
        "1. **Alta precisión**\n",
        "2. **Robustez**: Es robusto ante sobreajuste debido al muestro aleatorio y la combinación de múltiples árboles\n",
        "3. **Manejo de datos desbalanceados**: Puede manejar problemas de clasificación desbalanceada de manera efectiva\n",
        "\n",
        "**Desventajas**\n",
        "1. **Menos interpretable que un solo árbol**.\n",
        "2. **Menos eficiente en conjuntos de datos pequeños**.\n",
        "3. **Tiempo de entrenamiento**: Puede llevar más tiempo que el entrenamiento de un solo árbol, especialmente en conjuntos de datos grandes."
      ],
      "metadata": {
        "id": "jMe49xEv03QL"
      }
    },
    {
      "cell_type": "code",
      "source": [
        "import pandas as pd\n",
        "data = pd.read_csv('/content/sample_data/Social_Network_Ads.csv')\n",
        "X = data.iloc[:, [2, 3]]\n",
        "y = data.iloc[:, -1].values\n",
        "gender = data[['Gender']]\n",
        "\n",
        "from sklearn.preprocessing import OneHotEncoder\n",
        "cat_encoder = OneHotEncoder()\n",
        "data_cat_1hot = cat_encoder.fit_transform(gender)\n",
        "encoded_df = pd.DataFrame(data_cat_1hot.toarray(), columns = cat_encoder.get_feature_names_out())\n",
        "data1 = pd.concat([X, encoded_df], axis = 1)\n",
        "\n",
        "from sklearn.model_selection import train_test_split\n",
        "X_train, X_test, y_train, y_test = train_test_split(X, y, test_size=0.25, random_state=0)\n",
        "\n",
        "from sklearn.ensemble import RandomForestClassifier\n",
        "cls = RandomForestClassifier(n_estimators=40)\n",
        "cls.fit(X_train, y_train)\n",
        "\n",
        "y_pred = cls.predict(X_test)\n",
        "\n",
        "from sklearn.metrics import confusion_matrix\n",
        "print(confusion_matrix(y_test, y_pred))\n",
        "\n",
        "from sklearn.metrics import precision_score, recall_score\n",
        "print('Precision:',precision_score(y_test, y_pred))\n",
        "print('Recall:',recall_score(y_test, y_pred))\n",
        "\n",
        "from sklearn.metrics import f1_score\n",
        "print('F1:',f1_score(y_test, y_pred))"
      ],
      "metadata": {
        "colab": {
          "base_uri": "https://localhost:8080/"
        },
        "id": "pbiNrYOtBH5a",
        "outputId": "0cf28f65-a84e-4f4b-8248-1e7eb078b968"
      },
      "execution_count": null,
      "outputs": [
        {
          "output_type": "stream",
          "name": "stdout",
          "text": [
            "[[64  4]\n",
            " [ 4 28]]\n",
            "Precision: 0.875\n",
            "Recall: 0.875\n",
            "F1: 0.875\n"
          ]
        }
      ]
    }
  ]
}