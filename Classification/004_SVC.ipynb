{
  "nbformat": 4,
  "nbformat_minor": 0,
  "metadata": {
    "colab": {
      "provenance": []
    },
    "kernelspec": {
      "name": "python3",
      "display_name": "Python 3"
    },
    "language_info": {
      "name": "python"
    }
  },
  "cells": [
    {
      "cell_type": "markdown",
      "source": [
        "# SVC\n",
        "\n",
        "*Support Vector Machine (SVC)* es un algoritmo de aprendizaje automático supervisado que se utiliza para clasificar datos. La *SVC* funciona encontrando una frontera de decisión que separa los datos de dos clases.\n",
        "\n",
        "La *SVC* es útil en las siguientes situaciones:\n",
        "\n",
        "- **Problemas de clasificación lineal o no lineal**.\n",
        "- **Espacios de características de alta dimensión**: Puede ser eficaz incluso en espacios de características de alta dimensión, como en la clasificación de texto o imágenes.\n",
        "\n",
        "![SVC](https://upload.wikimedia.org/wikipedia/commons/thumb/7/72/SVM_margin.png/450px-SVM_margin.png)\n",
        "\n",
        "#### Ventajas y desventajas\n",
        "\n",
        "**Ventajas**\n",
        "\n",
        "1. **Efectiva en espacios de características de alta dimensión**: Puede manejar eficientemente conjuntos de datos con un gran número de características.\n",
        "2. **Robusto ante espacios de características no lineales**.\n",
        "3. **Eficiente en memoria**.\n",
        "\n",
        "**Desventajas**\n",
        "\n",
        "1. **sensibilidad a la escala y al ruido**.\n",
        "2. **Elección del kernel y parámetros**.\n",
        "3. **Dificultad con conjuntos de datos muy grandes**."
      ],
      "metadata": {
        "id": "PkFII1TssDy4"
      }
    },
    {
      "cell_type": "code",
      "source": [
        "data = pd.read_csv('/content/sample_data/Social_Network_Ads.csv')\n",
        "X = data.iloc[:, [2, 3]]\n",
        "y = data.iloc[:, -1].values\n",
        "gender = data[['Gender']]\n",
        "\n",
        "from sklearn.preprocessing import OneHotEncoder\n",
        "cat_encoder = OneHotEncoder()\n",
        "data_cat_1hot = cat_encoder.fit_transform(gender)\n",
        "encoded_df = pd.DataFrame(data_cat_1hot.toarray(), columns = cat_encoder.get_feature_names_out())\n",
        "data1 = pd.concat([X, encoded_df], axis = 1)\n",
        "\n",
        "from sklearn.model_selection import train_test_split\n",
        "X_train, X_test, y_train, y_test = train_test_split(X, y, test_size=0.25, random_state=0)\n",
        "\n",
        "from sklearn.preprocessing import StandardScaler\n",
        "sc_X = StandardScaler()\n",
        "X_train = sc_X.fit_transform(X_train)\n",
        "X_test = sc_X.transform(X_test)\n",
        "\n",
        "from sklearn.svm import SVC\n",
        "cls = SVC(kernel='linear', random_state=0)\n",
        "cls.fit(X_train, y_train)\n",
        "\n",
        "y_pred = cls.predict(X_test)\n",
        "\n",
        "from sklearn.metrics import confusion_matrix\n",
        "print(confusion_matrix(y_test, y_pred))\n",
        "\n",
        "from sklearn.metrics import precision_score, recall_score\n",
        "print('Precision:',precision_score(y_test, y_pred))\n",
        "print('Recall:',recall_score(y_test, y_pred))\n",
        "\n",
        "from sklearn.metrics import f1_score\n",
        "print('F1:',f1_score(y_test, y_pred))"
      ],
      "metadata": {
        "id": "9xW3uutWn3MA",
        "colab": {
          "base_uri": "https://localhost:8080/"
        },
        "outputId": "0e8d4170-5cee-4037-cd20-6c88131bc3ab"
      },
      "execution_count": null,
      "outputs": [
        {
          "output_type": "stream",
          "name": "stdout",
          "text": [
            "[[66  2]\n",
            " [ 8 24]]\n",
            "Precision: 0.9230769230769231\n",
            "Recall: 0.75\n",
            "F1: 0.8275862068965517\n"
          ]
        }
      ]
    },
    {
      "cell_type": "code",
      "source": [
        "cls = SVC(kernel='rbf', random_state=0)\n",
        "cls.fit(X_train, y_train)\n",
        "y_pred = cls.predict(X_test)\n",
        "print(confusion_matrix(y_test, y_pred))\n",
        "print('Precision:',precision_score(y_test, y_pred))\n",
        "print('Recall:',recall_score(y_test, y_pred))\n",
        "print('F1:',f1_score(y_test, y_pred))"
      ],
      "metadata": {
        "colab": {
          "base_uri": "https://localhost:8080/"
        },
        "id": "DwHC5L_7IkxU",
        "outputId": "9b4eafc1-be75-45b0-b837-c0b0ff849193"
      },
      "execution_count": null,
      "outputs": [
        {
          "output_type": "stream",
          "name": "stdout",
          "text": [
            "[[64  4]\n",
            " [ 3 29]]\n",
            "Precision: 0.8787878787878788\n",
            "Recall: 0.90625\n",
            "F1: 0.8923076923076922\n"
          ]
        }
      ]
    },
    {
      "cell_type": "code",
      "source": [
        "cls = SVC(kernel='poly', random_state=0)\n",
        "cls.fit(X_train, y_train)\n",
        "y_pred = cls.predict(X_test)\n",
        "print(confusion_matrix(y_test, y_pred))\n",
        "print('Precision:',precision_score(y_test, y_pred))\n",
        "print('Recall:',recall_score(y_test, y_pred))\n",
        "print('F1:',f1_score(y_test, y_pred))\n"
      ],
      "metadata": {
        "colab": {
          "base_uri": "https://localhost:8080/"
        },
        "id": "LuWuYLPgI-xL",
        "outputId": "bf8e14fc-c240-4efb-eec6-475cea3db052"
      },
      "execution_count": null,
      "outputs": [
        {
          "output_type": "stream",
          "name": "stdout",
          "text": [
            "[[67  1]\n",
            " [13 19]]\n",
            "Precision: 0.95\n",
            "Recall: 0.59375\n",
            "F1: 0.7307692307692308\n"
          ]
        }
      ]
    }
  ]
}