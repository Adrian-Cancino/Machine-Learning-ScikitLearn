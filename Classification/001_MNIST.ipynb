{
  "nbformat": 4,
  "nbformat_minor": 0,
  "metadata": {
    "colab": {
      "provenance": []
    },
    "kernelspec": {
      "name": "python3",
      "display_name": "Python 3"
    },
    "language_info": {
      "name": "python"
    }
  },
  "cells": [
    {
      "cell_type": "markdown",
      "source": [
        "# MNIST\n",
        "\n",
        "El conjunto de datos **MNIST** contiene 70,000 imágenes pequeñas de dígitos escritos a mano. El conjunto consiste en imágenes en escala de grises de dígitos escritos a mano (números del 0 al 9). Cada imagen tiene una resolución de 28 * 28 píxeles."
      ],
      "metadata": {
        "id": "CSZw-zkTT0oz"
      }
    },
    {
      "cell_type": "markdown",
      "source": [
        "## Clasificador Binario"
      ],
      "metadata": {
        "id": "PtZRc-rWVEqr"
      }
    },
    {
      "cell_type": "code",
      "source": [
        "import numpy as np"
      ],
      "metadata": {
        "id": "x9AgSUL3o9KN"
      },
      "execution_count": null,
      "outputs": []
    },
    {
      "cell_type": "code",
      "source": [
        "# Carga del conjunto de datos MNIST\n",
        "from sklearn.datasets import fetch_openml\n",
        "mnist = fetch_openml('mnist_784', version=1)\n",
        "mnist.keys()"
      ],
      "metadata": {
        "id": "QvCZPu--Cc4F",
        "colab": {
          "base_uri": "https://localhost:8080/"
        },
        "outputId": "2473665f-6ae2-492b-861e-7bac34089fd6"
      },
      "execution_count": null,
      "outputs": [
        {
          "output_type": "stream",
          "name": "stderr",
          "text": [
            "/usr/local/lib/python3.10/dist-packages/sklearn/datasets/_openml.py:968: FutureWarning: The default value of `parser` will change from `'liac-arff'` to `'auto'` in 1.4. You can set `parser='auto'` to silence this warning. Therefore, an `ImportError` will be raised from 1.4 if the dataset is dense and pandas is not installed. Note that the pandas parser may return different data types. See the Notes Section in fetch_openml's API doc for details.\n",
            "  warn(\n"
          ]
        },
        {
          "output_type": "execute_result",
          "data": {
            "text/plain": [
              "dict_keys(['data', 'target', 'frame', 'categories', 'feature_names', 'target_names', 'DESCR', 'details', 'url'])"
            ]
          },
          "metadata": {},
          "execution_count": 2
        }
      ]
    },
    {
      "cell_type": "code",
      "source": [
        "# Extraer la información para las variables independiente y dependiente\n",
        "X, y = mnist['data'], mnist['target']\n",
        "X.shape"
      ],
      "metadata": {
        "colab": {
          "base_uri": "https://localhost:8080/"
        },
        "id": "AeMJcQ4weP0G",
        "outputId": "13eb0ca9-48b6-4a72-f463-5b946b6306a2"
      },
      "execution_count": null,
      "outputs": [
        {
          "output_type": "execute_result",
          "data": {
            "text/plain": [
              "(70000, 784)"
            ]
          },
          "metadata": {},
          "execution_count": 3
        }
      ]
    },
    {
      "cell_type": "code",
      "source": [
        "y.shape"
      ],
      "metadata": {
        "colab": {
          "base_uri": "https://localhost:8080/"
        },
        "id": "Guqs0987eoWt",
        "outputId": "7b4135d5-86ca-488e-f7b8-a3389f6e1d61"
      },
      "execution_count": null,
      "outputs": [
        {
          "output_type": "execute_result",
          "data": {
            "text/plain": [
              "(70000,)"
            ]
          },
          "metadata": {},
          "execution_count": 4
        }
      ]
    },
    {
      "cell_type": "markdown",
      "source": [
        "Cada imagen tiene 784 características. Cada imagen tiene las dimensiones de `28 * 28` pixéles, cada características representa un pixel, desde 0 (blanco) a 255 (negro)."
      ],
      "metadata": {
        "id": "5EohiVfFet3I"
      }
    },
    {
      "cell_type": "markdown",
      "source": [
        "En Scikit-learn, el conjunto de datos MNIST es cargado como un objeto de tipo `Bunch`, que es un contenedor similar a un diccionario que contiene varios elementos, incluyendo los datos y las etiquetas.\n",
        "\n",
        "`X.to_numpy()` convierte el objeto `X` a un arreglo NumPy."
      ],
      "metadata": {
        "id": "odqHxzh4oDeR"
      }
    },
    {
      "cell_type": "code",
      "source": [
        "import matplotlib.pyplot as plt\n",
        "\n",
        "some_digit = X.to_numpy()[0]\n",
        "some_digit_image = some_digit.reshape(28, 28)\n",
        "\n",
        "plt.imshow(some_digit_image, cmap = 'binary')\n",
        "plt.axis('off')\n",
        "plt.show()"
      ],
      "metadata": {
        "colab": {
          "base_uri": "https://localhost:8080/",
          "height": 406
        },
        "id": "emLYQXbHernb",
        "outputId": "72f5ad88-bd72-4c69-e424-b82bba6eb493"
      },
      "execution_count": null,
      "outputs": [
        {
          "output_type": "display_data",
          "data": {
            "text/plain": [
              "<Figure size 640x480 with 1 Axes>"
            ],
            "image/png": "[encoded data removed]"
          },
          "metadata": {}
        }
      ]
    },
    {
      "cell_type": "code",
      "source": [
        "y = y.astype(np.uint8)\n",
        "y[0]"
      ],
      "metadata": {
        "colab": {
          "base_uri": "https://localhost:8080/"
        },
        "id": "syvPIe5Kfpmz",
        "outputId": "1b87312f-5cc2-41ba-d753-1e4f98975789"
      },
      "execution_count": null,
      "outputs": [
        {
          "output_type": "execute_result",
          "data": {
            "text/plain": [
              "5"
            ]
          },
          "metadata": {},
          "execution_count": 6
        }
      ]
    },
    {
      "cell_type": "markdown",
      "source": [
        "Debemos de crear el conjunto de entrenamiento y testing. El conjunto MNIST ya esta barajeado, siendo las primeras 60,000 imágenes para el conjunto de entrenamiento y las restantes 10,000 para el conjunto de testing. Gracias a que el conjunto ya se encuentra listo para ser utilizado podemos estar seguros de que la validación `cross-validation` serán similares, por lo que tendremos un resultado que nos garantice un correcto resultado."
      ],
      "metadata": {
        "id": "EZ9nG6uUpMa6"
      }
    },
    {
      "cell_type": "code",
      "source": [
        "X_train, X_test, y_train, y_test = X[:60000], X[60000:], y[:60000], y[60000:]"
      ],
      "metadata": {
        "id": "-9xtyiuBo7kE"
      },
      "execution_count": null,
      "outputs": []
    },
    {
      "cell_type": "markdown",
      "source": [
        "#### Entrenamiento del Clasificador Binario\n",
        "\n",
        "Este problema se encargará sólamente de detectar el número 5, por lo que filtraremos el conjunto para obtener solamente las imágenes que dibujan el número 5."
      ],
      "metadata": {
        "id": "k9pkmEtep1_8"
      }
    },
    {
      "cell_type": "code",
      "source": [
        "y_train_5 = (y_train == 5)\n",
        "y_test_5 = (y_test == 5)"
      ],
      "metadata": {
        "id": "dYPBXY8QpzZw"
      },
      "execution_count": null,
      "outputs": []
    },
    {
      "cell_type": "markdown",
      "source": [
        "## SGDClassifier\n",
        "\n",
        "Para comenzar utilizaremos el clasificador SGDClassifier (*Stochastic Gradient Descent*). Este clasificador funciona muy bien con largos conjuntos de datos, esto se debe a que toma cada instancia de entrenamiento de forma independiente, uno a la vez.\n",
        "\n",
        "Este clasificador pertenecer a la familia de clasificadores lineales.\n",
        "\n",
        "Algunas situaciones comunes para su implementación son:\n",
        "\n",
        "- **Grandes conjuntos de datos**: Debido a su capacidad para trabajar con lotes pequeños de datos a la vez, este clasificador es eficiente para conjuntos de datos grandes que no caben en la memoria.\n",
        "- **Problemas de clasificación binaria o multiclase**.\n",
        "\n",
        "El SGDClassifier utiliza el método de Descenso de Gradiente Estocástico para optimizar una función de pérdida en lugar de utilizar el conjunto completo de datos en cada iteración. El descenso de gradiente estocástico es una técnica que actualiza los parámetros del modelo de forma iterativa, utilizando solo un pequeño lote de datos (minilote) en cada paso.\n",
        "\n",
        "#### Ventajas y desventajas\n",
        "\n",
        "**Ventajas**\n",
        "\n",
        "1. **Eficiencia en grandes conjuntos de datos**\n",
        "2. **Adaptabilidad**: Es adaptable y puede ser utilizado para problemas de clasificación lineal variados.\n",
        "\n",
        "**Desventajas**\n",
        "\n",
        "1. **Sensibilidad a la escala**: Puede ser sensible a la escala de las características, por lo que la normalización de las características puede ser necesaria.\n",
        "2. **Necesidad de ajuste de hiperparámetros**: Requiere ajuste de hiperparámetros, para obtener un rendimiento óptimo."
      ],
      "metadata": {
        "id": "Xs09UqmBxM4A"
      }
    },
    {
      "cell_type": "code",
      "source": [
        "from sklearn.linear_model import SGDClassifier\n",
        "sgd_classifier = SGDClassifier(random_state=42)\n",
        "sgd_classifier.fit(X_train, y_train_5)"
      ],
      "metadata": {
        "colab": {
          "base_uri": "https://localhost:8080/",
          "height": 74
        },
        "id": "FwApnCjoxL80",
        "outputId": "5d41c6af-cd30-45aa-8754-c74b2c2d03d7"
      },
      "execution_count": null,
      "outputs": [
        {
          "output_type": "execute_result",
          "data": {
            "text/plain": [
              "SGDClassifier(random_state=42)"
            ],
            "text/html": [
              "<style>#sk-container-id-1 {color: black;background-color: white;}#sk-container-id-1 pre{padding: 0;}#sk-container-id-1 div.sk-toggleable {background-color: white;}#sk-container-id-1 label.sk-toggleable__label {cursor: pointer;display: block;width: 100%;margin-bottom: 0;padding: 0.3em;box-sizing: border-box;text-align: center;}#sk-container-id-1 label.sk-toggleable__label-arrow:before {content: \"▸\";float: left;margin-right: 0.25em;color: #696969;}#sk-container-id-1 label.sk-toggleable__label-arrow:hover:before {color: black;}#sk-container-id-1 div.sk-estimator:hover label.sk-toggleable__label-arrow:before {color: black;}#sk-container-id-1 div.sk-toggleable__content {max-height: 0;max-width: 0;overflow: hidden;text-align: left;background-color: #f0f8ff;}#sk-container-id-1 div.sk-toggleable__content pre {margin: 0.2em;color: black;border-radius: 0.25em;background-color: #f0f8ff;}#sk-container-id-1 input.sk-toggleable__control:checked~div.sk-toggleable__content {max-height: 200px;max-width: 100%;overflow: auto;}#sk-container-id-1 input.sk-toggleable__control:checked~label.sk-toggleable__label-arrow:before {content: \"▾\";}#sk-container-id-1 div.sk-estimator input.sk-toggleable__control:checked~label.sk-toggleable__label {background-color: #d4ebff;}#sk-container-id-1 div.sk-label input.sk-toggleable__control:checked~label.sk-toggleable__label {background-color: #d4ebff;}#sk-container-id-1 input.sk-hidden--visually {border: 0;clip: rect(1px 1px 1px 1px);clip: rect(1px, 1px, 1px, 1px);height: 1px;margin: -1px;overflow: hidden;padding: 0;position: absolute;width: 1px;}#sk-container-id-1 div.sk-estimator {font-family: monospace;background-color: #f0f8ff;border: 1px dotted black;border-radius: 0.25em;box-sizing: border-box;margin-bottom: 0.5em;}#sk-container-id-1 div.sk-estimator:hover {background-color: #d4ebff;}#sk-container-id-1 div.sk-parallel-item::after {content: \"\";width: 100%;border-bottom: 1px solid gray;flex-grow: 1;}#sk-container-id-1 div.sk-label:hover label.sk-toggleable__label {background-color: #d4ebff;}#sk-container-id-1 div.sk-serial::before {content: \"\";position: absolute;border-left: 1px solid gray;box-sizing: border-box;top: 0;bottom: 0;left: 50%;z-index: 0;}#sk-container-id-1 div.sk-serial {display: flex;flex-direction: column;align-items: center;background-color: white;padding-right: 0.2em;padding-left: 0.2em;position: relative;}#sk-container-id-1 div.sk-item {position: relative;z-index: 1;}#sk-container-id-1 div.sk-parallel {display: flex;align-items: stretch;justify-content: center;background-color: white;position: relative;}#sk-container-id-1 div.sk-item::before, #sk-container-id-1 div.sk-parallel-item::before {content: \"\";position: absolute;border-left: 1px solid gray;box-sizing: border-box;top: 0;bottom: 0;left: 50%;z-index: -1;}#sk-container-id-1 div.sk-parallel-item {display: flex;flex-direction: column;z-index: 1;position: relative;background-color: white;}#sk-container-id-1 div.sk-parallel-item:first-child::after {align-self: flex-end;width: 50%;}#sk-container-id-1 div.sk-parallel-item:last-child::after {align-self: flex-start;width: 50%;}#sk-container-id-1 div.sk-parallel-item:only-child::after {width: 0;}#sk-container-id-1 div.sk-dashed-wrapped {border: 1px dashed gray;margin: 0 0.4em 0.5em 0.4em;box-sizing: border-box;padding-bottom: 0.4em;background-color: white;}#sk-container-id-1 div.sk-label label {font-family: monospace;font-weight: bold;display: inline-block;line-height: 1.2em;}#sk-container-id-1 div.sk-label-container {text-align: center;}#sk-container-id-1 div.sk-container {/* jupyter's `normalize.less` sets `[hidden] { display: none; }` but bootstrap.min.css set `[hidden] { display: none !important; }` so we also need the `!important` here to be able to override the default hidden behavior on the sphinx rendered scikit-learn.org. See: https://github.com/scikit-learn/scikit-learn/issues/21755 */display: inline-block !important;position: relative;}#sk-container-id-1 div.sk-text-repr-fallback {display: none;}</style><div id=\"sk-container-id-1\" class=\"sk-top-container\"><div class=\"sk-text-repr-fallback\"><pre>SGDClassifier(random_state=42)</pre><b>In a Jupyter environment, please rerun this cell to show the HTML representation or trust the notebook. <br />On GitHub, the HTML representation is unable to render, please try loading this page with nbviewer.org.</b></div><div class=\"sk-container\" hidden><div class=\"sk-item\"><div class=\"sk-estimator sk-toggleable\"><input class=\"sk-toggleable__control sk-hidden--visually\" id=\"sk-estimator-id-1\" type=\"checkbox\" checked><label for=\"sk-estimator-id-1\" class=\"sk-toggleable__label sk-toggleable__label-arrow\">SGDClassifier</label><div class=\"sk-toggleable__content\"><pre>SGDClassifier(random_state=42)</pre></div></div></div></div></div>"
            ]
          },
          "metadata": {},
          "execution_count": 9
        }
      ]
    },
    {
      "cell_type": "code",
      "source": [
        "sgd_classifier.predict([some_digit])"
      ],
      "metadata": {
        "colab": {
          "base_uri": "https://localhost:8080/"
        },
        "id": "1-1eRIGXyEvr",
        "outputId": "aaed0af2-db2b-46c7-c6e1-4fb7eaf9402d"
      },
      "execution_count": null,
      "outputs": [
        {
          "output_type": "stream",
          "name": "stderr",
          "text": [
            "/usr/local/lib/python3.10/dist-packages/sklearn/base.py:439: UserWarning: X does not have valid feature names, but SGDClassifier was fitted with feature names\n",
            "  warnings.warn(\n"
          ]
        },
        {
          "output_type": "execute_result",
          "data": {
            "text/plain": [
              "array([ True])"
            ]
          },
          "metadata": {},
          "execution_count": 10
        }
      ]
    },
    {
      "cell_type": "markdown",
      "source": [
        "#### Medir el rendimiento\n",
        "\n",
        "Evaluar clasificadores es más complicado que los algoritmos de regresión.\n",
        "\n",
        "##### Cross-Validation\n",
        "\n",
        "Utilizaremos `cross_val_score()` para evaluar `SGDClassifier` utilizando validación cruzada de K-fold con tres pliegues. `K-fold cross-validation` significa dividir el conjunto de entrenamiento en `K` pliegues (en este caso 3)."
      ],
      "metadata": {
        "id": "audteroQFaeq"
      }
    },
    {
      "cell_type": "code",
      "source": [
        "from sklearn.model_selection import cross_val_score\n",
        "cross_val_score(sgd_classifier, X_train, y_train_5, cv=3, scoring='accuracy')"
      ],
      "metadata": {
        "colab": {
          "base_uri": "https://localhost:8080/"
        },
        "id": "B_0uID6byXLS",
        "outputId": "f2eaab9e-58c7-4a97-8a8f-5a06b59634d1"
      },
      "execution_count": null,
      "outputs": [
        {
          "output_type": "execute_result",
          "data": {
            "text/plain": [
              "array([0.95035, 0.96035, 0.9604 ])"
            ]
          },
          "metadata": {},
          "execution_count": 11
        }
      ]
    },
    {
      "cell_type": "markdown",
      "source": [
        "#### Matriz de Confusión\n",
        "\n",
        "La idea general de la matriz de confusión es contar el número de veces que la instancia de clase A son clasificados como clase B. `cross_val_predict()` retorna la predicción escha en cada división hecha."
      ],
      "metadata": {
        "id": "uraOXtC2V80g"
      }
    },
    {
      "cell_type": "code",
      "source": [
        "from sklearn.model_selection import cross_val_predict\n",
        "y_train_pred = cross_val_predict(sgd_classifier, X_train, y_train_5, cv = 3)"
      ],
      "metadata": {
        "id": "VFL7CNM3V8nh"
      },
      "execution_count": null,
      "outputs": []
    },
    {
      "cell_type": "markdown",
      "source": [
        "|||\n",
        "|--|--|\n",
        "|TN|FP|\n",
        "|FN|TP|\n",
        "\n",
        "- *53,892* imágenes fueron correctamente clasificadas como no 5\n",
        "- *687* fueron erroneamente clasificadas como 5\n",
        "- *1,891* fueron erroneamente clasificadas como no 5\n",
        "- *3,530* fueron correctamente clasificados como 5"
      ],
      "metadata": {
        "id": "huXBzbZ-nhDt"
      }
    },
    {
      "cell_type": "code",
      "source": [
        "from sklearn.metrics import confusion_matrix\n",
        "confusion_matrix(y_train_5, y_train_pred)"
      ],
      "metadata": {
        "colab": {
          "base_uri": "https://localhost:8080/"
        },
        "id": "6Fbqdf-MXRtM",
        "outputId": "7f3420d9-04a8-4da5-80a1-05a3e2c410da"
      },
      "execution_count": null,
      "outputs": [
        {
          "output_type": "execute_result",
          "data": {
            "text/plain": [
              "array([[53892,   687],\n",
              "       [ 1891,  3530]])"
            ]
          },
          "metadata": {},
          "execution_count": 13
        }
      ]
    },
    {
      "cell_type": "markdown",
      "source": [
        "Otras métricas más concisas de los algoritmos de clasificación son la métrica de *precision* y *recall*.\n",
        "\n",
        "$$\n",
        "precision = \\frac{TP}{TP + FP}\n",
        "$$\n",
        "\n",
        "*TP* es el número de verdaderos positivos, y *FP* es el número de falsos positivos.\n",
        "\n",
        "$$\n",
        "recall = \\frac{TP}{TP+FN}\n",
        "$$\n",
        "\n",
        "*FN* es el número de falsos positivos.\n",
        "\n",
        "#### *Precision* y *Recall*\n",
        "\n",
        "El modelo cada vez que detecta un número 5 acierta un *83.71%*. Además, solo deteca un *65.12%* de los números 5."
      ],
      "metadata": {
        "id": "iaSPnoLhpLQF"
      }
    },
    {
      "cell_type": "code",
      "source": [
        "from sklearn.metrics import precision_score, recall_score\n",
        "precision_score(y_train_5, y_train_pred)"
      ],
      "metadata": {
        "colab": {
          "base_uri": "https://localhost:8080/"
        },
        "id": "lN4BUHWDmFn2",
        "outputId": "f4b3d7e7-3a47-4879-a312-ac0091a62ad9"
      },
      "execution_count": null,
      "outputs": [
        {
          "output_type": "execute_result",
          "data": {
            "text/plain": [
              "0.8370879772350012"
            ]
          },
          "metadata": {},
          "execution_count": 14
        }
      ]
    },
    {
      "cell_type": "code",
      "source": [
        "recall_score(y_train_5, y_train_pred)"
      ],
      "metadata": {
        "colab": {
          "base_uri": "https://localhost:8080/"
        },
        "id": "e7gvVtOHrGhE",
        "outputId": "d2b8e790-4e8a-43f9-e736-846b57eb5a04"
      },
      "execution_count": null,
      "outputs": [
        {
          "output_type": "execute_result",
          "data": {
            "text/plain": [
              "0.6511713705958311"
            ]
          },
          "metadata": {},
          "execution_count": 15
        }
      ]
    },
    {
      "cell_type": "markdown",
      "source": [
        "Existe una métrica que combina los valores de *precision* y *recall* llamada *F1 score*. La métrica *F1 score* es el promedio armonico (*harmonic mean*) de *precision* y *recall*. Mientras el promedio regular trata todos los valores de la misma manera, el promedio armónico da más peso a los valores pequeños. Como resultado, el clasificador obtiene un valor alto de *F1* si *precision* y *recall* son altos.\n",
        "\n",
        "$$\n",
        "F_1 = \\frac{2}{\\frac{1}{precision} + \\frac{1}{recall}} = 2 * \\frac{precision * recall}{precision + recall} = \\frac{TP}{TP + \\frac{FN + FP}{2}}\n",
        "$$"
      ],
      "metadata": {
        "id": "1DZixd1GsPl0"
      }
    },
    {
      "cell_type": "code",
      "source": [
        "from sklearn.metrics import f1_score\n",
        "f1_score(y_train_5, y_train_pred)"
      ],
      "metadata": {
        "id": "uAxSzfP1rKlR",
        "colab": {
          "base_uri": "https://localhost:8080/"
        },
        "outputId": "d4f4d6a4-f384-40c4-aac4-af3a7fb247ae"
      },
      "execution_count": null,
      "outputs": [
        {
          "output_type": "execute_result",
          "data": {
            "text/plain": [
              "0.7325171197343846"
            ]
          },
          "metadata": {},
          "execution_count": 16
        }
      ]
    }
  ]
}