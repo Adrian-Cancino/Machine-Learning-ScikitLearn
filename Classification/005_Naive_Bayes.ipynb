{
  "nbformat": 4,
  "nbformat_minor": 0,
  "metadata": {
    "colab": {
      "provenance": []
    },
    "kernelspec": {
      "name": "python3",
      "display_name": "Python 3"
    },
    "language_info": {
      "name": "python"
    }
  },
  "cells": [
    {
      "cell_type": "markdown",
      "source": [
        "# Naive Bayes\n",
        "\n",
        "Es un algoritmo de clasificación probabilística basado en el teorema de Bayes, que asume independencia condicional entre las características dadas las clases.\n",
        "\n",
        "Este algoritmo es adecuado cuando:\n",
        "\n",
        "- **Suposición de independencia es razonable**; Naive Bayes asume que las características de los datos son independientes entre sí. Esta suposición puede no ser realista en algunos casos, pero puede simplificar la aplicación del algoritmo.\n",
        "- **Cuando los datos son multidimensionales**.\n",
        "- **Conjuntos de datos de tamaño moderado a grande**.\n",
        "\n",
        "![Naive Bayes](https://miro.medium.com/v2/resize:fit:1400/0*9Yio7Jry0iJ8EIPb.png)\n",
        "\n",
        "#### Ventajas y desventajas\n",
        "\n",
        "**Ventajas**\n",
        "\n",
        "1. **Simple y eficiente**.\n",
        "2. **Buen rendimiento en conjuntos de datos textuales**. Funciona especialmente bien en conjuntos de datos textuales y problemas de clasificación de texto.\n",
        "\n",
        "**Desventajas**\n",
        "\n",
        "1. **Suposición de independencia**: La suposición de independencia condicional puede ser demasiado simplista y no siempre reflejar la realidad de las relaciones entre las características.\n",
        "2. **Problemas con atributos correlacionados**: Puede tener dificultades cuando hay atributos altamente correlacionados, ya que la suposición de independencia condicional se ve comprometida.\n",
        "3. **Sensible a datos de entrenamiento pequeños**: Puede ser sensible a datos de entrenamiento pequeños y puede tener problemas de estimación si una clase no está bien representada en los datos de entrenamiento."
      ],
      "metadata": {
        "id": "LNYigLm_vOJn"
      }
    },
    {
      "cell_type": "code",
      "source": [
        "data = pd.read_csv('/content/sample_data/Social_Network_Ads.csv')\n",
        "X = data.iloc[:, [2, 3]]\n",
        "y = data.iloc[:, -1].values\n",
        "gender = data[['Gender']]\n",
        "\n",
        "from sklearn.preprocessing import OneHotEncoder\n",
        "cat_encoder = OneHotEncoder()\n",
        "data_cat_1hot = cat_encoder.fit_transform(gender)\n",
        "encoded_df = pd.DataFrame(data_cat_1hot.toarray(), columns = cat_encoder.get_feature_names_out())\n",
        "data1 = pd.concat([X, encoded_df], axis = 1)\n",
        "\n",
        "from sklearn.model_selection import train_test_split\n",
        "X_train, X_test, y_train, y_test = train_test_split(X, y, test_size=0.25, random_state=0)\n",
        "\n",
        "from sklearn.preprocessing import StandardScaler\n",
        "sc_X = StandardScaler()\n",
        "X_train = sc_X.fit_transform(X_train)\n",
        "X_test = sc_X.transform(X_test)\n",
        "\n",
        "from sklearn.naive_bayes import GaussianNB\n",
        "cls = GaussianNB()\n",
        "cls.fit(X_train, y_train)\n",
        "\n",
        "y_pred = cls.predict(X_test)\n",
        "\n",
        "from sklearn.metrics import confusion_matrix\n",
        "print(confusion_matrix(y_test, y_pred))\n",
        "\n",
        "from sklearn.metrics import precision_score, recall_score\n",
        "print('Precision:',precision_score(y_test, y_pred))\n",
        "print('Recall:',recall_score(y_test, y_pred))\n",
        "\n",
        "from sklearn.metrics import f1_score\n",
        "print('F1:',f1_score(y_test, y_pred))"
      ],
      "metadata": {
        "colab": {
          "base_uri": "https://localhost:8080/"
        },
        "id": "wl3FgyIDJRhM",
        "outputId": "d3a30b76-7f1d-4ad3-d1c2-723f7858eff1"
      },
      "execution_count": null,
      "outputs": [
        {
          "output_type": "stream",
          "name": "stdout",
          "text": [
            "[[65  3]\n",
            " [ 7 25]]\n",
            "Precision: 0.8928571428571429\n",
            "Recall: 0.78125\n",
            "F1: 0.8333333333333334\n"
          ]
        }
      ]
    }
  ]
}